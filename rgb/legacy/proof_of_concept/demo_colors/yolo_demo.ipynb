{
 "cells": [
  {
   "cell_type": "markdown",
   "metadata": {},
   "source": [
    "# This file uses the provided code from Ultralytics that uses cv2 library"
   ]
  },
  {
   "cell_type": "code",
   "execution_count": 1,
   "metadata": {},
   "outputs": [],
   "source": [
    "#import ultralytics\n",
    "\n",
    "#ultralytics.checks()"
   ]
  },
  {
   "cell_type": "code",
   "execution_count": 2,
   "metadata": {},
   "outputs": [
    {
     "name": "stdout",
     "output_type": "stream",
     "text": [
      "Video frame is empty or video processing has been successfully completed.\n"
     ]
    }
   ],
   "source": [
    "import cv2\n",
    "import os\n",
    "import sys\n",
    "# Get the absolute path of two parent directories up\n",
    "parent_path = os.path.abspath(os.path.join(os.getcwd(), \"..\", \"..\"))\n",
    "\n",
    "# Add it to sys.path\n",
    "sys.path.append(parent_path)\n",
    "\n",
    "import data_processing as dp\n",
    "\n",
    "#from ultralytics import solutions\n",
    "\n",
    "# Open the video file\n",
    "cap = cv2.VideoCapture(\"../demo_data/IMG_3222.mp4\")\n",
    "assert cap.isOpened(), \"Error reading video file\"\n",
    "\n",
    "# Get video properties: width, height, and frames per second (fps)\n",
    "w, h, fps = (int(cap.get(x)) for x in (cv2.CAP_PROP_FRAME_WIDTH, cv2.CAP_PROP_FRAME_HEIGHT, cv2.CAP_PROP_FPS))\n",
    "\n",
    "# Define points for a line or region of interest in the video frame\n",
    "line_points = [(400, 100), (400, 620)]  # Line coordinates\n",
    "\n",
    "# Initialize the video writer to save the output video\n",
    "video_writer = cv2.VideoWriter(\"object_counting_output.avi\", cv2.VideoWriter_fourcc(*\"mp4v\"), fps, (w, h))\n",
    "\n",
    "model = \"models/yolo11n.pt\"\n",
    "\n",
    "# Initialize the Object Counter with visualization options and other parameters\n",
    "#counter = solutions.ObjectCounter(\n",
    "##    show=True,  \t\t\t\t\t\t\t# Display the image during processing\n",
    "#    region=line_points,  \t\t\t\t\t# Region of interest points\n",
    "#    model=\"models/yolo11n.pt\",  \t\t\t# Ultralytics YOLO11 model file\n",
    "#    line_width=2,  \t\t\t\t\t\t\t# Thickness of the lines and bounding boxes\n",
    "#)\n",
    "\n",
    "# Process video frames in a loop\n",
    "while cap.isOpened():\n",
    "    success, im0 = cap.read()\n",
    "    if not success:\n",
    "        print(\"Video frame is empty or video processing has been successfully completed.\")\n",
    "        break\n",
    "\n",
    "    # Use the Object Counter to count objects in the frame and get the annotated image\n",
    "    im0 = dp.remove_some_RGB(image=im0, red=(100,0))\n",
    "\n",
    "    # Write the annotated frame to the output video\n",
    "    video_writer.write(im0)\n",
    "\n",
    "# Release the video capture and writer objects\n",
    "cap.release()\n",
    "video_writer.release()\n",
    "\n",
    "# Close all OpenCV windows\n",
    "cv2.destroyAllWindows()"
   ]
  },
  {
   "cell_type": "code",
   "execution_count": null,
   "metadata": {},
   "outputs": [],
   "source": [
    "cv2.destroyAllWindows()"
   ]
  }
 ],
 "metadata": {
  "kernelspec": {
   "display_name": ".venv",
   "language": "python",
   "name": "python3"
  },
  "language_info": {
   "codemirror_mode": {
    "name": "ipython",
    "version": 3
   },
   "file_extension": ".py",
   "mimetype": "text/x-python",
   "name": "python",
   "nbconvert_exporter": "python",
   "pygments_lexer": "ipython3",
   "version": "3.12.3"
  }
 },
 "nbformat": 4,
 "nbformat_minor": 2
}
