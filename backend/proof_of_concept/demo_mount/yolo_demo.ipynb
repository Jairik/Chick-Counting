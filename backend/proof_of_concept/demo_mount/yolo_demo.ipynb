{
 "cells": [
  {
   "cell_type": "markdown",
   "metadata": {},
   "source": [
    "# This file uses the provided code from Ultralytics that uses cv2 library"
   ]
  },
  {
   "cell_type": "code",
   "execution_count": null,
   "metadata": {},
   "outputs": [],
   "source": [
    "import ultralytics\n",
    "\n",
    "ultralytics.checks()"
   ]
  },
  {
   "cell_type": "code",
   "execution_count": null,
   "metadata": {},
   "outputs": [],
   "source": [
    "import sys\n",
    "import os\n",
    "\n",
    "# Add parent directory to sys.path\n",
    "sys.path.append(os.path.abspath(\"../..\"))\n",
    "\n",
    "import counter as cnt"
   ]
  },
  {
   "cell_type": "code",
   "execution_count": null,
   "metadata": {},
   "outputs": [],
   "source": [
    "from importlib import reload\n",
    "reload(cnt)"
   ]
  },
  {
   "cell_type": "code",
   "execution_count": null,
   "metadata": {},
   "outputs": [],
   "source": [
    "import cv2\n",
    "\n",
    "from ultralytics import solutions\n",
    "\n",
    "# Open the video file\n",
    "cap = cv2.VideoCapture(\"../demo_data/marble_test_9732.mp4\")\n",
    "assert cap.isOpened(), \"Error reading video file\"\n",
    "\n",
    "# Get video properties: width, height, and frames per second (fps)\n",
    "w, h, fps = (int(cap.get(x)) for x in (cv2.CAP_PROP_FRAME_WIDTH, cv2.CAP_PROP_FRAME_HEIGHT, cv2.CAP_PROP_FPS))\n",
    "\n",
    "# Define points for a line or region of interest in the video frame\n",
    "line_points = [(0, 100), (0, 620)]  # Line coordinates\n",
    "\n",
    "# Initialize the video writer to save the output video\n",
    "video_writer = cv2.VideoWriter(\"object_counting_output.avi\", cv2.VideoWriter_fourcc(*\"mp4v\"), fps, (w, h))\n",
    "\n",
    "yolo_kwargs = {\n",
    "    'show':True,  \t\t\t\t\t\t\t# Display the image during processing\n",
    "    'region':line_points,  \t\t\t\t\t# Region of interest points\n",
    "    'model':\"models/yolo11n.pt\",  \t\t\t# Ultralytics YOLO11 model file\n",
    "    'line_width':1,  \n",
    "}\n",
    "\n",
    "inpf1 = {\n",
    "    'rgb_to_bgr':\n",
    "    {},\n",
    "}\n",
    "inpf2 = {\n",
    "    'mask_blue_thresh':{\n",
    "        'threshold':160\n",
    "\t}\n",
    "}\n",
    "inpf3 = {\n",
    "    'mask_rgb_window':\n",
    "    {\n",
    "        'lower_threshold':0,\n",
    "        'upper_threshold':140\n",
    "\t}\n",
    "}\n",
    "\n",
    "\n",
    "# Initialize the Object Counter with visualization options and other parameters\n",
    "counter = cnt.Counter(\n",
    "    counter_type='contour',\n",
    "    counter_kwargs=yolo_kwargs,\n",
    "    img_norm_mode= 'bg_seg',\n",
    "    image_pipeline=[]\n",
    ")\n",
    "\n",
    "# Process video frames in a loop\n",
    "while cap.isOpened():\n",
    "    success, im0 = cap.read()\n",
    "    if not success:\n",
    "        print(\"Video frame is empty or video processing has been successfully completed.\")\n",
    "        break\n",
    "\n",
    "    # Use the Object Counter to count objects in the frame and get the annotated image\n",
    "    im0 = counter.count(im0)\n",
    "\n",
    "    # Write the annotated frame to the output video\n",
    "    video_writer.write(im0)\n",
    "\n",
    "# Release the video capture and writer objects\n",
    "cap.release()\n",
    "video_writer.release()\n",
    "\n",
    "# Close all OpenCV windows\n",
    "cv2.destroyAllWindows()"
   ]
  },
  {
   "cell_type": "code",
   "execution_count": null,
   "metadata": {},
   "outputs": [],
   "source": [
    "cv2.destroyAllWindows()"
   ]
  }
 ],
 "metadata": {
  "kernelspec": {
   "display_name": ".venv",
   "language": "python",
   "name": "python3"
  },
  "language_info": {
   "codemirror_mode": {
    "name": "ipython",
    "version": 3
   },
   "file_extension": ".py",
   "mimetype": "text/x-python",
   "name": "python",
   "nbconvert_exporter": "python",
   "pygments_lexer": "ipython3",
   "version": "3.12.3"
  }
 },
 "nbformat": 4,
 "nbformat_minor": 2
}
